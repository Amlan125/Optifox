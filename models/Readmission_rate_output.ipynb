{
 "cells": [
  {
   "cell_type": "code",
   "execution_count": 55,
   "metadata": {},
   "outputs": [
    {
     "name": "stdout",
     "output_type": "stream",
     "text": [
      "Predicted readmission probability for stay_id 37067082: 0.78\n",
      "Predicted readmission percentage for stay_id 37067082: 78.00%\n"
     ]
    }
   ],
   "source": [
    "import pandas as pd\n",
    "import pickle\n",
    "import os\n",
    "\n",
    "\n",
    "ROOT_FOLDER = os.path.dirname(os.getcwd())\n",
    "FEATHER_PATH = os.path.join(ROOT_FOLDER, \"data\", \"processed\", \"merged_df_cleaned.feather\") #I created this file from the Random-Forest model. It is the cleaned and processed dataset\n",
    "PICKLE_PATH = os.path.join(ROOT_FOLDER, \"models\", \"Readmission_Model.pkl\")\n",
    "\n",
    "# Important features used by the model\n",
    "important_features = ['icu_los', 'Glucose_max', 'Hematocrit_max', 'Respiratory Rate_mean',\n",
    "       'Creatinine_max', 'Sodium_min', 'urine_last_1d',\n",
    "       'Platelet Count_median', 'Glucose_median', 'Strength L Leg_max',\n",
    "       'Magnesium_median', 'Magnesium_max', 'MCHC_std', 'Potassium_min',\n",
    "       'Glucose_min', 'Anion Gap_max', 'Respiratory Rate_std',\n",
    "       'White Blood Cells_max', 'Phosphorous_median',\n",
    "       'Non Invasive Blood Pressure mean_max',\n",
    "       'Alanine Aminotransferase (ALT)_median']\n",
    "\n",
    "# Function to load the model\n",
    "def load_model(pickle_path):\n",
    "    with open(pickle_path, 'rb') as file:\n",
    "        model = pickle.load(file)\n",
    "    return model\n",
    "\n",
    "# Function to prepare input data for a given stay_id\n",
    "def prepare_input_data(stay_id, df):\n",
    "  \n",
    "    data = df[df['icu_stay_id'] == stay_id].reset_index(drop=True)\n",
    "    \n",
    "    return data[important_features]\n",
    "\n",
    "# Function to predict readmission\n",
    "def predict_readmission(stay_id, model, df):\n",
    "    if stay_id not in df['icu_stay_id'].values:\n",
    "        return None, None  \n",
    "    \n",
    "    input_data = prepare_input_data(stay_id, df)\n",
    "    \n",
    "    if input_data.empty:\n",
    "        return None, None \n",
    "    \n",
    "   \n",
    "    prediction_proba = model.predict_proba(input_data)[:, 1]  \n",
    "    prediction_percentage = prediction_proba * 100  \n",
    "    return prediction_proba, prediction_percentage\n",
    "\n",
    "\n",
    "def get_prediction_message(stay_id, model, df):\n",
    "    readmission_probability, readmission_percentage = predict_readmission(stay_id, model, df)\n",
    "    \n",
    "    if readmission_probability is None:\n",
    "        message = f\"No data found or stay_id {stay_id} not found.\"\n",
    "        success = False\n",
    "    else:\n",
    "        message = (f\"Predicted readmission probability for stay_id {stay_id}: \"\n",
    "                   f\"{readmission_probability[0]:.2f}\\n\"\n",
    "                   f\"Predicted readmission percentage for stay_id {stay_id}: \"\n",
    "                   f\"{readmission_percentage[0]:.2f}%\")\n",
    "        success = True\n",
    "    \n",
    "    return message, success\n",
    "\n",
    "if __name__ == \"__main__\":\n",
    "    \n",
    "    merged_df_cleaned = pd.read_feather(FEATHER_PATH)\n",
    "    \n",
    "    model = load_model(PICKLE_PATH)\n",
    "    \n",
    "    stay_id = input(\"Enter stay_id: \")\n",
    "    \n",
    "    message, success = get_prediction_message(stay_id, model, merged_df_cleaned)\n",
    "    \n",
    "    print(message)\n"
   ]
  }
 ],
 "metadata": {
  "kernelspec": {
   "display_name": "Python 3",
   "language": "python",
   "name": "python3"
  },
  "language_info": {
   "codemirror_mode": {
    "name": "ipython",
    "version": 3
   },
   "file_extension": ".py",
   "mimetype": "text/x-python",
   "name": "python",
   "nbconvert_exporter": "python",
   "pygments_lexer": "ipython3",
   "version": "3.10.11"
  }
 },
 "nbformat": 4,
 "nbformat_minor": 2
}
