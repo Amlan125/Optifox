{
 "cells": [
  {
   "cell_type": "code",
   "execution_count": 1,
   "metadata": {},
   "outputs": [],
   "source": [
    "import numpy as np\n",
    "import pandas as pd\n",
    "import matplotlib.pyplot as plt\n",
    "import pyarrow.feather as feather\n",
    "import os\n",
    "import random"
   ]
  },
  {
   "cell_type": "code",
   "execution_count": 2,
   "metadata": {},
   "outputs": [],
   "source": [
    "parent_folder = os.path.dirname(os.getcwd())\n",
    "sibling_folder = os.path.join(parent_folder,'data')\n",
    "processed_folder = os.path.join(sibling_folder, 'processed')"
   ]
  },
  {
   "cell_type": "code",
   "execution_count": 3,
   "metadata": {},
   "outputs": [],
   "source": [
    "feather_file1 = os.path.join(processed_folder, 'icu_timeseries_features_0M_0ed859c799267d4ae737f8814d52726d_20240512.feather')\n",
    "feather_file2 = os.path.join(processed_folder, 'icu_tabular_features_0M_0ed859c799267d4ae737f8814d52726d_20240512.feather')\n",
    "df1 = feather.read_feather(feather_file1)\n",
    "df1 = df1[['abs_event_time', 'stay_id', 'Arterial Blood Pressure mean','Sodium','Potassium','Creatinine','GCS - Eye Opening','GCS - Motor Response','GCS - Verbal Response']]\n",
    "df2= feather.read_feather(feather_file2)\n",
    "df2 = df2[['anchor_age', 'stay_id']]\n",
    "merged_df = pd.merge(df1, df2, on='stay_id')\n",
    "merged_df['abs_event_time'] = pd.to_datetime(merged_df['abs_event_time'])"
   ]
  },
  {
   "cell_type": "code",
   "execution_count": 4,
   "metadata": {},
   "outputs": [],
   "source": [
    "def calculate_APACHE_II(row):\n",
    "    anchor_age = row['anchor_age']\n",
    "    bp_mean = row['Arterial Blood Pressure mean']\n",
    "    sodium = row['Sodium']\n",
    "    potassium = row['Potassium']\n",
    "    creatinine = row['Creatinine']\n",
    "    eye_opening = row['GCS - Eye Opening']\n",
    "    motor_response = row['GCS - Motor Response']\n",
    "    verbal_response = row['GCS - Verbal Response']\n",
    "\n",
    "    age_points = lambda x: (6 if x >= 75 else 5 if 65 <= x < 75 else 3 if 55 <= x < 65 else 2 if 45 <= x < 55 else 0)\n",
    "    bp_points = lambda x: (4 if x >= 160 or x < 50 else 3 if 130 <= x < 160 else 2 if (110 <= x < 130) or (50 <= x < 70) else 0 if 70 <= x < 110 else 2)\n",
    "    sodium_points = lambda x: (4 if x >= 180 or x <= 110 else 3 if (160 <= x < 180) or (110 < x < 120) else 2 if (155 <= x < 160) or (120 <= x < 130) else 1 if 150 <= x < 155 else 0 if 130 <= x < 150 else 0)\n",
    "    potassium_points = lambda x: (4 if x >= 7.0 or x < 2.5 else 3 if 6.0 <= x < 7.0 else 2 if 2.5 <= x < 3.0 else 1 if (5.5 <= x < 6.0) or (3.0 <= x < 3.5) else 0 if 3.5 <= x < 5.5 else 0)\n",
    "    creatinine_points = lambda x: (4 if x >= 3.5 else 3 if 2.0 <= x < 3.5 else 2 if (1.5 <= x < 2.0) or (x < 0.6) else 0 if 0.6 <= x < 1.5 else 0)\n",
    "    gcs_points = lambda eye, motor, verbal: 15 - (eye + motor + verbal)\n",
    "\n",
    "    age_pts = age_points(anchor_age)\n",
    "    bp_pts = bp_points(bp_mean)\n",
    "    sodium_pts = sodium_points(sodium)\n",
    "    potassium_pts = potassium_points(potassium)\n",
    "    creatinine_pts = creatinine_points(creatinine)\n",
    "    gcs_pts = gcs_points(eye_opening, motor_response, verbal_response)\n",
    "\n",
    "    APACHE_score = age_pts + bp_pts + sodium_pts + potassium_pts + creatinine_pts + gcs_pts\n",
    "    return APACHE_score"
   ]
  },
  {
   "cell_type": "code",
   "execution_count": 5,
   "metadata": {},
   "outputs": [],
   "source": [
    "def calculate_mortality_apache(APACHE_score):\n",
    "    logit = -3.517 + 0.146 * APACHE_score * np.log(APACHE_score + 1)\n",
    "    mortality = np.exp(logit) / (1 + np.exp(logit))\n",
    "    return mortality"
   ]
  },
  {
   "cell_type": "code",
   "execution_count": 6,
   "metadata": {},
   "outputs": [],
   "source": [
    "low_threshold = 10\n",
    "high_threshold = 22\n",
    "merged_df_ffilled = merged_df.ffill().bfill()\n",
    "merged_df_ffilled['APACHE_score'] = merged_df_ffilled.apply(calculate_APACHE_II, axis=1)\n",
    "merged_df_ffilled['mortality'] = merged_df_ffilled.apply(lambda row: calculate_mortality_apache(row['APACHE_score']), axis=1)\n",
    "\n",
    "random_stay_id = random.choice(merged_df_ffilled['stay_id'])\n",
    "random_df = merged_df_ffilled[merged_df_ffilled['stay_id'] == random_stay_id]\n",
    "random_df_copy = random_df.copy()"
   ]
  },
  {
   "cell_type": "code",
   "execution_count": 7,
   "metadata": {},
   "outputs": [],
   "source": [
    "bins = [-float('inf'), low_threshold, high_threshold, float('inf')]\n",
    "labels = ['Low', 'Moderate', 'High']\n",
    "random_df_copy['score_category'] = pd.cut(random_df_copy['APACHE_score'], bins=bins, labels=labels, right=False)"
   ]
  },
  {
   "cell_type": "code",
   "execution_count": null,
   "metadata": {},
   "outputs": [],
   "source": [
    "fig, (ax1, ax2) = plt.subplots(2, 1, figsize=(10, 10), sharex=True)\n",
    "\n",
    "for category, group in random_df_copy.groupby('score_category', observed=False):\n",
    "    ax1.plot(group['abs_event_time'], group['APACHE_score'], marker='o', linestyle='-', label=category)\n",
    "ax1.set_ylabel('APACHE score')\n",
    "ax1.set_title('APACHE score over Time for (stay_id: {})'.format(random_stay_id))\n",
    "ax1.legend()\n",
    "ax1.set_xticks(random_df_copy['abs_event_time'])\n",
    "ax1.xaxis.set_tick_params(rotation=45)\n",
    "\n",
    "ax2.plot(random_df_copy['abs_event_time'], random_df_copy['mortality'] * 100, marker='o', linestyle='-', color='blue')\n",
    "ax2.set_ylabel('Mortality Rate (%)')\n",
    "ax2.set_title('Mortality Rate over Time for (stay_id: {})'.format(random_stay_id))\n",
    "ax2.set_xticks(random_df_copy['abs_event_time'])\n",
    "ax2.xaxis.set_tick_params(rotation=45)\n",
    "\n",
    "plt.tight_layout()\n",
    "plt.show()"
   ]
  }
 ],
 "metadata": {
  "kernelspec": {
   "display_name": "Python 3",
   "language": "python",
   "name": "python3"
  },
  "language_info": {
   "codemirror_mode": {
    "name": "ipython",
    "version": 3
   },
   "file_extension": ".py",
   "mimetype": "text/x-python",
   "name": "python",
   "nbconvert_exporter": "python",
   "pygments_lexer": "ipython3",
   "version": "3.10.11"
  }
 },
 "nbformat": 4,
 "nbformat_minor": 2
}
