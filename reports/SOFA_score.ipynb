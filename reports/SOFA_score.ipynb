{
 "cells": [
  {
   "cell_type": "code",
   "execution_count": 1,
   "metadata": {},
   "outputs": [],
   "source": [
    "import numpy as np\n",
    "import pandas as pd\n",
    "import matplotlib.pyplot as plt\n",
    "import pyarrow.feather as feather\n",
    "import os\n",
    "import random"
   ]
  },
  {
   "cell_type": "code",
   "execution_count": 2,
   "metadata": {},
   "outputs": [],
   "source": [
    "parent_folder = os.path.dirname(os.getcwd())\n",
    "sibling_folder = os.path.join(parent_folder,'data')\n",
    "processed_folder = os.path.join(sibling_folder, 'processed')"
   ]
  },
  {
   "cell_type": "code",
   "execution_count": 3,
   "metadata": {},
   "outputs": [],
   "source": [
    "feather_file_path = os.path.join(processed_folder, 'icu_timeseries_features_0M_0ed859c799267d4ae737f8814d52726d_20240512.feather')\n",
    "df = feather.read_feather(feather_file_path)\n",
    "\n",
    "columns_to_keep = [\n",
    "    'abs_event_time', 'stay_id', 'O2 saturation pulseoxymetry',\n",
    "    'Arterial Blood Pressure mean', 'Bilirubin, Total', 'Platelet Count',\n",
    "    'Creatinine', 'GCS - Eye Opening', 'GCS - Motor Response', 'GCS - Verbal Response'\n",
    "]\n",
    "df = df[columns_to_keep]\n",
    "df['abs_event_time'] = pd.to_datetime(df['abs_event_time'])"
   ]
  },
  {
   "cell_type": "code",
   "execution_count": 4,
   "metadata": {},
   "outputs": [],
   "source": [
    "calculate_SOFA = lambda SpO2, gcs_eye_opening, gcs_motor_response, gcs_verbal_response, platelet_count, bilirubin, mean_arterial_pressure, creatinine: (\n",
    "    4 if SpO2 < 90 else\n",
    "    3 if SpO2 < 92 else\n",
    "    2 if SpO2 < 94 else\n",
    "    1 if SpO2 < 96 else\n",
    "    0\n",
    ") + (\n",
    "    4 if mean_arterial_pressure < 40 else\n",
    "    3 if mean_arterial_pressure < 50 else\n",
    "    2 if mean_arterial_pressure < 60 else\n",
    "    1 if mean_arterial_pressure < 70 else\n",
    "    0\n",
    ") + (\n",
    "    4 if bilirubin >= 12.0 else\n",
    "    3 if bilirubin >= 6.0 else\n",
    "    2 if bilirubin >= 2.0 else\n",
    "    1 if bilirubin >= 1.2 else\n",
    "    0\n",
    ") + (\n",
    "    4 if platelet_count <= 20 else\n",
    "    3 if platelet_count <= 50 else\n",
    "    2 if platelet_count <= 100 else\n",
    "    1 if platelet_count <= 150 else\n",
    "    0\n",
    ") + (\n",
    "    4 if creatinine > 5 else\n",
    "    3 if 3.5 <= creatinine <= 4.9 else\n",
    "    2 if 2.0 <= creatinine <= 3.4 else\n",
    "    1 if 1.2 <= creatinine <= 1.9 else\n",
    "    0\n",
    ") + (\n",
    "    4 if gcs_eye_opening + gcs_motor_response + gcs_verbal_response < 6 else\n",
    "    3 if gcs_eye_opening + gcs_motor_response + gcs_verbal_response < 10 else\n",
    "    2 if gcs_eye_opening + gcs_motor_response + gcs_verbal_response < 13 else\n",
    "    1 if gcs_eye_opening + gcs_motor_response + gcs_verbal_response < 15 else\n",
    "    0\n",
    ")"
   ]
  },
  {
   "cell_type": "code",
   "execution_count": 5,
   "metadata": {},
   "outputs": [],
   "source": [
    "df_ffilled = df.ffill().bfill()\n",
    "\n",
    "df_ffilled['SOFA_score'] = df_ffilled.apply(\n",
    "    lambda row: calculate_SOFA(\n",
    "        row['O2 saturation pulseoxymetry'],\n",
    "        row['GCS - Eye Opening'],\n",
    "        row['GCS - Motor Response'],\n",
    "        row['GCS - Verbal Response'],\n",
    "        row['Platelet Count'],\n",
    "        row['Bilirubin, Total'],\n",
    "        row['Arterial Blood Pressure mean'],\n",
    "        row['Creatinine']\n",
    "    ), axis=1\n",
    ")\n"
   ]
  },
  {
   "cell_type": "code",
   "execution_count": 6,
   "metadata": {},
   "outputs": [],
   "source": [
    "\n",
    "low_threshold = 10\n",
    "high_threshold = 22\n",
    "random_stay_id = random.choice(df_ffilled['stay_id'])\n",
    "\n",
    "filtered_df = df_ffilled[df_ffilled['stay_id'] == random_stay_id].copy()\n",
    "bins = [-float('inf'), low_threshold, high_threshold, float('inf')]\n",
    "labels = ['Low', 'Moderate', 'High']\n",
    "filtered_df['score_category'] = pd.cut(filtered_df['SOFA_score'], bins=bins, labels=labels, right=False)\n"
   ]
  },
  {
   "cell_type": "code",
   "execution_count": null,
   "metadata": {},
   "outputs": [],
   "source": [
    "plt.figure(figsize=(10, 10))\n",
    "\n",
    "for category, group in filtered_df.groupby('score_category', observed=False):\n",
    "    plt.plot(group['abs_event_time'], group['SOFA_score'], marker='o', linestyle='-', label=category)\n",
    "plt.ylabel('SOFA Score')\n",
    "plt.xlabel('Event Time')\n",
    "plt.title(f'SOFA Score over Time for Stay ID: {random_stay_id}')\n",
    "plt.legend()\n",
    "plt.xticks(rotation=45)\n",
    "plt.tight_layout()\n",
    "plt.show()"
   ]
  }
 ],
 "metadata": {
  "kernelspec": {
   "display_name": "Python 3",
   "language": "python",
   "name": "python3"
  },
  "language_info": {
   "codemirror_mode": {
    "name": "ipython",
    "version": 3
   },
   "file_extension": ".py",
   "mimetype": "text/x-python",
   "name": "python",
   "nbconvert_exporter": "python",
   "pygments_lexer": "ipython3",
   "version": "3.10.11"
  }
 },
 "nbformat": 4,
 "nbformat_minor": 2
}
