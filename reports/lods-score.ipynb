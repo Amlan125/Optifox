{
 "cells": [
  {
   "cell_type": "code",
   "execution_count": 127,
   "metadata": {},
   "outputs": [],
   "source": [
    "import pandas as pd\n",
    "import seaborn as sns\n",
    "import matplotlib.pyplot as plt\n",
    "import numpy as np\n",
    "import random\n",
    "import seaborn as sns"
   ]
  },
  {
   "cell_type": "code",
   "execution_count": 128,
   "metadata": {},
   "outputs": [
    {
     "name": "stdout",
     "output_type": "stream",
     "text": [
      "The history saving thread hit an unexpected error (OperationalError('attempt to write a readonly database')).History will not be written to the database.\n"
     ]
    }
   ],
   "source": [
    "time_ser = pd.read_feather('../data/processed/icu_timeseries_features_0M_0ed859c799267d4ae737f8814d52726d_20240512.feather')"
   ]
  },
  {
   "cell_type": "code",
   "execution_count": 129,
   "metadata": {},
   "outputs": [],
   "source": [
    "tab_fea =  pd.read_feather('../data/processed/icu_tabular_features_0M_0ed859c799267d4ae737f8814d52726d_20240512.feather')"
   ]
  },
  {
   "cell_type": "code",
   "execution_count": 130,
   "metadata": {},
   "outputs": [],
   "source": [
    "time_ser['GCS Score'] = (time_ser['GCS - Eye Opening'] + time_ser['GCS - Motor Response'] + time_ser['GCS - Verbal Response']).round()\n"
   ]
  },
  {
   "cell_type": "code",
   "execution_count": 131,
   "metadata": {},
   "outputs": [],
   "source": [
    "data = time_ser.loc[:,['abs_event_time','stay_id','Heart Rate','Arterial Blood Pressure systolic','O2 saturation pulseoxymetry','Bilirubin, Total','INR(PT)','White Blood Cells','Platelet Count','GCS Score','Urea Nitrogen','Creatinine']]"
   ]
  },
  {
   "cell_type": "code",
   "execution_count": 132,
   "metadata": {},
   "outputs": [],
   "source": [
    "data['abs_event_time'] = pd.to_datetime(data['abs_event_time'])\n",
    "data.ffill(inplace=True)\n",
    "data.bfill(inplace=True)"
   ]
  },
  {
   "cell_type": "code",
   "execution_count": 133,
   "metadata": {},
   "outputs": [],
   "source": [
    "grouped_data = tab_fea.groupby('subject_id')['stay_id'].apply(list).reset_index()\n",
    "stay_id_to_subject_id = dict(zip(grouped_data['stay_id'].explode(), grouped_data['subject_id'].repeat(grouped_data['stay_id'].apply(len))))\n",
    "\n",
    "# Map 'stay_id' in heart_rate DataFrame to 'subject_id'\n"
   ]
  },
  {
   "cell_type": "code",
   "execution_count": 134,
   "metadata": {},
   "outputs": [],
   "source": [
    "data['subject_id'] = data['stay_id'].map(stay_id_to_subject_id)"
   ]
  },
  {
   "cell_type": "code",
   "execution_count": 135,
   "metadata": {},
   "outputs": [],
   "source": [
    "data.loc[(data['Heart Rate'] < 30.0), 'Heart Rate points'] = 5\n",
    "data.loc[(data['Heart Rate'] >= 30.0) & (data['Heart Rate'] < 140.0), 'Heart Rate points'] = 0\n",
    "data.loc[(data['Heart Rate'] >= 140.0), 'Heart Rate points'] = 1\n",
    "data.drop(columns='Heart Rate', inplace= True)"
   ]
  },
  {
   "cell_type": "code",
   "execution_count": 136,
   "metadata": {},
   "outputs": [],
   "source": [
    "data.loc[(data['Arterial Blood Pressure systolic'] < 40.0), 'Arterial Blood Pressure systolic points'] = 5\n",
    "data.loc[((data['Arterial Blood Pressure systolic'] >= 40.0) & (data['Arterial Blood Pressure systolic'] < 70.0)) | (data['Arterial Blood Pressure systolic'] >= 270.0), 'Arterial Blood Pressure systolic points'] = 3\n",
    "data.loc[((data['Arterial Blood Pressure systolic'] >= 70.0) & (data['Arterial Blood Pressure systolic'] < 90.0)) | ((data['Arterial Blood Pressure systolic'] >= 240.0) & (data['Arterial Blood Pressure systolic'] < 270.0)), 'Arterial Blood Pressure systolic points'] = 1\n",
    "data.loc[(data['Arterial Blood Pressure systolic'] >= 90.0) & (data['Arterial Blood Pressure systolic'] < 240.0), 'Arterial Blood Pressure systolic points'] = 0\n",
    "data.drop(columns='Arterial Blood Pressure systolic', inplace= True)"
   ]
  },
  {
   "cell_type": "code",
   "execution_count": 137,
   "metadata": {},
   "outputs": [],
   "source": [
    "data.loc[(data['O2 saturation pulseoxymetry'] < 150.0), 'O2 saturation pulseoxymetry points'] = 3\n",
    "data.loc[(data['O2 saturation pulseoxymetry'] >= 150.0), 'O2 saturation pulseoxymetry points'] = 1\n",
    "data.drop(columns='O2 saturation pulseoxymetry',inplace= True)"
   ]
  },
  {
   "cell_type": "code",
   "execution_count": 138,
   "metadata": {},
   "outputs": [],
   "source": [
    "data.loc[(data['Bilirubin, Total'] < 2.0), 'Bilirubin, Total points'] = 0\n",
    "data.loc[(data['Bilirubin, Total'] >= 2.0), 'Bilirubin, Total points'] = 1\n",
    "data.drop(columns='Bilirubin, Total', inplace= True)"
   ]
  },
  {
   "cell_type": "code",
   "execution_count": 139,
   "metadata": {},
   "outputs": [],
   "source": [
    "data.loc[(data['INR(PT)'] <= 3.0), 'INR(PT) points'] = 0\n",
    "data.loc[(data['INR(PT)'] > 3.0), 'INR(PT) points'] = 1\n",
    "data.drop(columns= 'INR(PT)', inplace= True)"
   ]
  },
  {
   "cell_type": "code",
   "execution_count": 140,
   "metadata": {},
   "outputs": [],
   "source": [
    "data.loc[(data['White Blood Cells'] < 1.0), 'White Blood Cells points'] = 3\n",
    "data.loc[((data['White Blood Cells'] >= 1.0) & (data['White Blood Cells'] < 2.5)) | (data['White Blood Cells'] >= 50.0), 'White Blood Cells points'] = 1\n",
    "data.loc[(data['White Blood Cells'] >= 2.5) & (data['White Blood Cells'] < 50.0), 'White Blood Cells points'] = 0\n",
    "data.drop(columns= 'White Blood Cells', inplace= True)"
   ]
  },
  {
   "cell_type": "code",
   "execution_count": 141,
   "metadata": {},
   "outputs": [],
   "source": [
    "data.loc[(data['Platelet Count'] < 50.0), 'Platelet Count points'] = 1\n",
    "data.loc[(data['Platelet Count'] >= 50.0), 'Platelet Count points'] = 0\n",
    "data.drop(columns= 'Platelet Count', inplace= True)"
   ]
  },
  {
   "cell_type": "code",
   "execution_count": 142,
   "metadata": {},
   "outputs": [],
   "source": [
    "data.loc[(data['GCS Score'] >= 14.0) & (data['GCS Score'] <= 15.0), 'GCS Score points'] = 0\n",
    "data.loc[(data['GCS Score'] >= 9.0) & (data['GCS Score'] <= 13.0), 'GCS Score points'] = 1\n",
    "data.loc[(data['GCS Score'] >= 6.0) & (data['GCS Score'] <= 8.0), 'GCS Score points'] = 3\n",
    "data.loc[(data['GCS Score'] >= 3.0) & (data['GCS Score'] <= 5.0), 'GCS Score points'] = 5\n",
    "data.drop(columns= 'GCS Score', inplace= True)"
   ]
  },
  {
   "cell_type": "code",
   "execution_count": 143,
   "metadata": {},
   "outputs": [],
   "source": [
    "data.loc[(data['Urea Nitrogen'] < 6), 'Urea Nitrogen points'] = 0\n",
    "data.loc[(data['Urea Nitrogen'] >= 6) & (data['Urea Nitrogen'] < 10), 'Urea Nitrogen points'] = 1\n",
    "data.loc[(data['Urea Nitrogen'] >= 10) & (data['Urea Nitrogen'] < 20), 'Urea Nitrogen points'] = 3\n",
    "data.loc[(data['Urea Nitrogen'] >= 20), 'Urea Nitrogen points'] = 5\n",
    "data.drop(columns= 'Urea Nitrogen', inplace= True)"
   ]
  },
  {
   "cell_type": "code",
   "execution_count": 144,
   "metadata": {},
   "outputs": [],
   "source": [
    "data.loc[(data['Creatinine'] < 1.2), 'Creatinine points'] = 0\n",
    "data.loc[(data['Creatinine'] >= 1.2) & (data['Creatinine'] < 1.6), 'Creatinine points'] = 1\n",
    "data.loc[(data['Creatinine'] >= 1.6) , 'Creatinine points'] = 3\n",
    "data.drop(columns= 'Creatinine', inplace= True)"
   ]
  },
  {
   "cell_type": "code",
   "execution_count": 145,
   "metadata": {},
   "outputs": [],
   "source": [
    "data['LODS Score'] = data['Heart Rate points']+ data['Arterial Blood Pressure systolic points'] + data['O2 saturation pulseoxymetry points'] + data['Bilirubin, Total points'] + data['INR(PT) points'] + data['White Blood Cells points'] + data['Platelet Count points'] + data['GCS Score points'] + data['Urea Nitrogen points'] + data['Creatinine points']"
   ]
  },
  {
   "cell_type": "code",
   "execution_count": 146,
   "metadata": {},
   "outputs": [],
   "source": [
    "def calculate_mortality(score):\n",
    "    logit = -3.4043 + 0.4173 * score\n",
    "    mortality = np.exp(logit) / (1 + np.exp(logit))\n",
    "    return mortality\n",
    "data['Mortality_rate'] = np.round((data['LODS Score'].apply(calculate_mortality))*100,2)"
   ]
  },
  {
   "cell_type": "code",
   "execution_count": 147,
   "metadata": {},
   "outputs": [],
   "source": [
    "random_stay_id = random.choice(data['stay_id'].unique())\n",
    "filtered_df = data[data['stay_id'] == random_stay_id]"
   ]
  },
  {
   "cell_type": "code",
   "execution_count": 148,
   "metadata": {},
   "outputs": [
    {
     "data": {
      "image/png": "[encoded data removed]",
      "text/plain": [
       "<Figure size 1200x600 with 1 Axes>"
      ]
     },
     "metadata": {},
     "output_type": "display_data"
    }
   ],
   "source": [
    "sns.set_theme(style=\"whitegrid\")\n",
    "\n",
    "# Plot the time series graph for mortality rate\n",
    "plt.figure(figsize=(12, 6))\n",
    "plt.plot(filtered_df['abs_event_time'], filtered_df['Mortality_rate'], marker='o', linestyle='-', color='b', linewidth=2, markersize=6, label='Mortality rate')\n",
    "plt.title(f'Mortality rate for stay-id: {random_stay_id}', fontsize=16)\n",
    "plt.xlabel('Time', fontsize=14)\n",
    "plt.ylabel('Mortality rate', fontsize=14)\n",
    "plt.xticks(fontsize=12)\n",
    "plt.yticks(fontsize=12)\n",
    "plt.legend(fontsize=12)\n",
    "plt.grid(True, alpha=0.5)\n",
    "plt.tight_layout()\n",
    "plt.show()"
   ]
  }
 ],
 "metadata": {
  "kernelspec": {
   "display_name": "Python 3",
   "language": "python",
   "name": "python3"
  },
  "language_info": {
   "codemirror_mode": {
    "name": "ipython",
    "version": 3
   },
   "file_extension": ".py",
   "mimetype": "text/x-python",
   "name": "python",
   "nbconvert_exporter": "python",
   "pygments_lexer": "ipython3",
   "version": "3.12.3"
  }
 },
 "nbformat": 4,
 "nbformat_minor": 2
}
