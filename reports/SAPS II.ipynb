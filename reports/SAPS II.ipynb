{
 "cells": [
  {
   "cell_type": "markdown",
   "id": "9070aab0-2919-42a8-b482-d658607527e4",
   "metadata": {},
   "source": [
    "# SAPS II\n",
    "\n",
    "## Description\n",
    "A disease severity classification system that is used for assessment of adult patients in intensive care units across the world.\n",
    "\n",
    "Data required in the 15 items of the score is either readily available (e.g. patient age, type of admission, chronic diseases), refers to vital signs regularly monitored (e.g. heart rate, systolic blood pressure, temperature) or is determined within 24 hours.\n",
    "\n",
    "The following table describes the 15 items of the score with respect to their value in assessing health status:\n",
    "\n",
    "<img src=\"SAPS II.png\">\n",
    "\n",
    "**Author**: Purushotham Koduri\n",
    "\n",
    "**Date**:5/12/2024\n"
   ]
  },
  {
   "cell_type": "code",
   "execution_count": 27,
   "id": "a0360ce3-8fe7-4f91-9266-ec99301ba5a3",
   "metadata": {},
   "outputs": [],
   "source": [
    "import pandas as pd\n",
    "import numpy as np\n",
    "import os"
   ]
  },
  {
   "cell_type": "code",
   "execution_count": 31,
   "id": "42758737-15f5-4652-915f-0fb6ab8bf9d5",
   "metadata": {},
   "outputs": [],
   "source": [
    "ROOT_FOLDER = os.path.dirname(os.getcwd())\n",
    "PROCESSED_DATA =  os.path.join(ROOT_FOLDER, \"data\",\"processed\")\n",
    "COLUMN_INFO = os.path.join(PROCESSED_DATA,\"chartevents_column_dict_20240512.pkl\")\n",
    "ICU_STAYS = os.path.join(PROCESSED_DATA,\"icustays_20240512.feather\")\n",
    "ICU_CHART_EVENTS = os.path.join(PROCESSED_DATA, \"icu_chartevents_0M_0ed859c799267d4ae737f8814d52726d_20240512.feather\")\n",
    "ICU_CHART_TABS = os.path.join(PROCESSED_DATA,\"icu_chartevents_tabular_0M_0ed859c799267d4ae737f8814d52726d_20240512.feather\")\n",
    "ICU_CHART_TIMESERIES = os.path.join(PROCESSED_DATA,\"icu_chartevents_timeseries_0M_0ed859c799267d4ae737f8814d52726d_20240512.feather\")\n",
    "ICU_LAB_EVENTS = os.path.join(PROCESSED_DATA, \"icu_labevents_0M_0ed859c799267d4ae737f8814d52726d_20240512.feather\")\n",
    "ICU_OUTPUT_EVENTS = os.path.join(PROCESSED_DATA,\"icu_outputevents_0M_0ed859c799267d4ae737f8814d52726d_20240512.feather\")\n",
    "ICU_TAB_FEATURES = os.path.join(PROCESSED_DATA,\"icu_tabular_features_0M_0ed859c799267d4ae737f8814d52726d_20240512.feather\")\n",
    "ICU_TIMESERIES_FEATURES = os.path.join(PROCESSED_DATA,\"icu_timeseries_features_0M_0ed859c799267d4ae737f8814d52726d_20240512.feather\")\n",
    "ICU_TIMESERIES_LABEVENTS = os.path.join(PROCESSED_DATA, \"icu_timeseries_labevents_0M_0ed859c799267d4ae737f8814d52726d_20240512.feather\")\n",
    "\n",
    "icu_stays_df = pd.read_feather(ICU_STAYS)\n",
    "icu_chart_events_df = pd.read_feather(ICU_CHART_EVENTS)\n",
    "icu_chart_tabs_df = pd.read_feather(ICU_CHART_TABS)\n",
    "icu_chart_timeseries_df = pd.read_feather(ICU_CHART_TIMESERIES)\n",
    "icu_lab_events_df = pd.read_feather(ICU_LAB_EVENTS)\n",
    "icu_output_events_df = pd.read_feather(ICU_OUTPUT_EVENTS)\n",
    "icu_tab_features_df = pd.read_feather(ICU_TAB_FEATURES)\n",
    "icu_timeseries_features_df = pd.read_feather(ICU_TIMESERIES_FEATURES)\n",
    "icu_timeseries_labevents_df = pd.read_feather(ICU_TIMESERIES_LABEVENTS)                         "
   ]
  }
 ],
 "metadata": {
  "kernelspec": {
   "display_name": "Python 3 (ipykernel)",
   "language": "python",
   "name": "python3"
  },
  "language_info": {
   "codemirror_mode": {
    "name": "ipython",
    "version": 3
   },
   "file_extension": ".py",
   "mimetype": "text/x-python",
   "name": "python",
   "nbconvert_exporter": "python",
   "pygments_lexer": "ipython3",
   "version": "3.10.12"
  }
 },
 "nbformat": 4,
 "nbformat_minor": 5
}
